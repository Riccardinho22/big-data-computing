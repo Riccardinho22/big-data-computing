{
  "nbformat": 4,
  "nbformat_minor": 0,
  "metadata": {
    "colab": {
      "name": "Lecture_09_Linear_Regression.ipynb",
      "provenance": [],
      "collapsed_sections": [],
      "machine_shape": "hm"
    },
    "kernelspec": {
      "name": "python3",
      "display_name": "Python 3"
    }
  },
  "cells": [
    {
      "cell_type": "markdown",
      "metadata": {
        "id": "6r8rVH_wrVFN",
        "colab_type": "text"
      },
      "source": [
        "# **Global Constants**"
      ]
    },
    {
      "cell_type": "code",
      "metadata": {
        "id": "_GumGWC6reG6",
        "colab_type": "code",
        "colab": {}
      },
      "source": [
        "JAVA_HOME = \"/usr/lib/jvm/java-8-openjdk-amd64\"\n",
        "GDRIVE_DIR = \"/content/gdrive\"\n",
        "GDRIVE_HOME_DIR = GDRIVE_DIR + \"/My Drive\"\n",
        "GDRIVE_DATA_DIR = GDRIVE_HOME_DIR + \"/Teaching/2019-20-BDC/datasets\"\n",
        "DATASET_URL = \"https://github.com/gtolomei/big-data-computing/raw/master/datasets/king-county-house-sales.csv.bz2\"\n",
        "GDRIVE_DATASET_FILE = GDRIVE_DATA_DIR + \"/\" + DATASET_URL.split(\"/\")[-1]\n",
        "\n",
        "RANDOM_SEED = 42 # for reproducibility"
      ],
      "execution_count": 0,
      "outputs": []
    },
    {
      "cell_type": "markdown",
      "metadata": {
        "id": "iNQWYxnsMqQv",
        "colab_type": "text"
      },
      "source": [
        "# **Spark + Google Colab Setup**"
      ]
    },
    {
      "cell_type": "markdown",
      "metadata": {
        "id": "tFudfLCRNvXT",
        "colab_type": "text"
      },
      "source": [
        "## **1.** Install PySpark and related dependencies"
      ]
    },
    {
      "cell_type": "code",
      "metadata": {
        "id": "l6vtwpPGKn9W",
        "colab_type": "code",
        "colab": {}
      },
      "source": [
        "!pip install pyspark\n",
        "!pip install -U -q PyDrive\n",
        "!apt install openjdk-8-jdk-headless -qq\n",
        "import os\n",
        "os.environ[\"JAVA_HOME\"] = JAVA_HOME"
      ],
      "execution_count": 0,
      "outputs": []
    },
    {
      "cell_type": "markdown",
      "metadata": {
        "id": "YOrmY8FiOMwa",
        "colab_type": "text"
      },
      "source": [
        "## **2.** Import useful Python packages"
      ]
    },
    {
      "cell_type": "code",
      "metadata": {
        "id": "Fh8zPg5APmYv",
        "colab_type": "code",
        "colab": {}
      },
      "source": [
        "import requests\n",
        "import pandas as pd\n",
        "import numpy as np\n",
        "import matplotlib.pyplot as plt\n",
        "import seaborn as sns\n",
        "%matplotlib inline\n",
        "\n",
        "import pyspark\n",
        "from pyspark.sql import *\n",
        "from pyspark.sql.types import *\n",
        "from pyspark.sql.functions import *\n",
        "from pyspark import SparkContext, SparkConf"
      ],
      "execution_count": 0,
      "outputs": []
    },
    {
      "cell_type": "markdown",
      "metadata": {
        "id": "hbT2rM-4tvnB",
        "colab_type": "text"
      },
      "source": [
        "## **3.** Create Spark context"
      ]
    },
    {
      "cell_type": "code",
      "metadata": {
        "id": "xXQOJijlEz3I",
        "colab_type": "code",
        "colab": {}
      },
      "source": [
        "# create the session\n",
        "conf = SparkConf().set(\"spark.ui.port\", \"4050\").set('spark.executor.memory', '4G').set('spark.driver.memory', '45G').set('spark.driver.maxResultSize', '10G')\n",
        "\n",
        "# create the context\n",
        "sc = pyspark.SparkContext(conf=conf)\n",
        "spark = SparkSession.builder.getOrCreate()"
      ],
      "execution_count": 0,
      "outputs": []
    },
    {
      "cell_type": "markdown",
      "metadata": {
        "id": "HV1RghvXuwQG",
        "colab_type": "text"
      },
      "source": [
        "## **4.** Create <code>ngrok</code> tunnel to check the Spark UI"
      ]
    },
    {
      "cell_type": "code",
      "metadata": {
        "id": "BB4QVvEQuIXW",
        "colab_type": "code",
        "colab": {}
      },
      "source": [
        "!wget https://bin.equinox.io/c/4VmDzA7iaHb/ngrok-stable-linux-amd64.zip\n",
        "!unzip ngrok-stable-linux-amd64.zip\n",
        "get_ipython().system_raw('./ngrok http 4050 &')\n",
        "!curl -s http://localhost:4040/api/tunnels | python3 -c \\\n",
        "    \"import sys, json; print(json.load(sys.stdin)['tunnels'][0]['public_url'])\""
      ],
      "execution_count": 0,
      "outputs": []
    },
    {
      "cell_type": "markdown",
      "metadata": {
        "id": "on0pzpMiOA_L",
        "colab_type": "text"
      },
      "source": [
        "## **5.** Link Colab to our Google Drive"
      ]
    },
    {
      "cell_type": "code",
      "metadata": {
        "id": "yzUd3JdGS1Tp",
        "colab_type": "code",
        "colab": {}
      },
      "source": [
        "# Point Colaboratory to our Google Drive\n",
        "\n",
        "from google.colab import drive\n",
        "\n",
        "drive.mount(GDRIVE_DIR, force_remount=True)"
      ],
      "execution_count": 0,
      "outputs": []
    },
    {
      "cell_type": "markdown",
      "metadata": {
        "id": "_eRvyl2xwCV6",
        "colab_type": "text"
      },
      "source": [
        "## **6.** Check everything is ok"
      ]
    },
    {
      "cell_type": "code",
      "metadata": {
        "id": "4fqJ5f0JE3BL",
        "colab_type": "code",
        "colab": {}
      },
      "source": [
        "spark"
      ],
      "execution_count": 0,
      "outputs": []
    },
    {
      "cell_type": "code",
      "metadata": {
        "id": "qhTN342EEOYZ",
        "colab_type": "code",
        "colab": {}
      },
      "source": [
        "sc._conf.getAll()"
      ],
      "execution_count": 0,
      "outputs": []
    },
    {
      "cell_type": "markdown",
      "metadata": {
        "id": "Mu77QbD2vC_o",
        "colab_type": "text"
      },
      "source": [
        "# **The Prediction Task**\n",
        "\n",
        "In this notebook, we will be using a dataset from [Kaggle](https://www.kaggle.com/burhanykiyakoglu/predicting-house-prices/data) containing house sale records from [King County, WA, USA](https://en.wikipedia.org/wiki/King_County,_Washington) to predict house prices.\n",
        "\n",
        "Intuitively, each sold house is described by a set of properties (i.e., _features_) and the price it has been eventually sold. Our goal is to use those features (or, at least, a subset of them) to accurately predict the price which an _unseen_ house should be sold.\n",
        "\n",
        "In the following, we implement each step of the pipeline which we have discussed in our classes."
      ]
    },
    {
      "cell_type": "markdown",
      "metadata": {
        "id": "g-vLczwIuUhG",
        "colab_type": "text"
      },
      "source": [
        "# **1. Data Collection**\n",
        "\n",
        "This is the first step we need to accomplish before going any further. The dataset will be downloaded directly to our Google Drive, as usual."
      ]
    },
    {
      "cell_type": "markdown",
      "metadata": {
        "id": "j5fI3wiGvKBl",
        "colab_type": "text"
      },
      "source": [
        "### **Download dataset file from URL directly to our Google Drive**"
      ]
    },
    {
      "cell_type": "code",
      "metadata": {
        "id": "kxrLDE_4e7KH",
        "colab_type": "code",
        "colab": {}
      },
      "source": [
        "def get_data(dataset_url, dest, chunk_size=1024):\n",
        "  response = requests.get(dataset_url, stream=True)\n",
        "  if response.status_code == 200:\n",
        "    with open(dest, \"wb\") as file:\n",
        "      for block in response.iter_content(chunk_size=chunk_size): \n",
        "        if block: \n",
        "          file.write(block)"
      ],
      "execution_count": 0,
      "outputs": []
    },
    {
      "cell_type": "code",
      "metadata": {
        "id": "quiuGbfyv8vT",
        "colab_type": "code",
        "colab": {}
      },
      "source": [
        "print(\"Retrieving dataset from URL: {} ...\".format(DATASET_URL))\n",
        "get_data(DATASET_URL, GDRIVE_DATASET_FILE)\n",
        "print(\"Dataset successfully retrieved and stored at: {}\".format(GDRIVE_DATASET_FILE))"
      ],
      "execution_count": 0,
      "outputs": []
    },
    {
      "cell_type": "markdown",
      "metadata": {
        "id": "DevlrMcPw1ZI",
        "colab_type": "text"
      },
      "source": [
        "### **Read dataset file into a Spark Dataframe**"
      ]
    },
    {
      "cell_type": "code",
      "metadata": {
        "id": "qKi5Hd60FFcX",
        "colab_type": "code",
        "colab": {}
      },
      "source": [
        "house_df = spark.read.load(GDRIVE_DATASET_FILE, \n",
        "                         format=\"csv\", \n",
        "                         sep=\",\", \n",
        "                         inferSchema=\"true\", \n",
        "                         header=\"true\"\n",
        "                         )"
      ],
      "execution_count": 0,
      "outputs": []
    },
    {
      "cell_type": "markdown",
      "metadata": {
        "id": "IPTd8ep9x74H",
        "colab_type": "text"
      },
      "source": [
        "### **Check the shape of the loaded dataset, i.e., number of rows and columns**"
      ]
    },
    {
      "cell_type": "code",
      "metadata": {
        "id": "JyRyYqeXGA4l",
        "colab_type": "code",
        "colab": {}
      },
      "source": [
        "print(\"The shape of the dataset is {:d} rows by {:d} columns\".format(house_df.count(), len(house_df.columns)))"
      ],
      "execution_count": 0,
      "outputs": []
    },
    {
      "cell_type": "markdown",
      "metadata": {
        "id": "-WC4RPQgyEsB",
        "colab_type": "text"
      },
      "source": [
        "### **Print out the schema of the loaded dataset**"
      ]
    },
    {
      "cell_type": "code",
      "metadata": {
        "id": "Q3KhtSnvGIwG",
        "colab_type": "code",
        "colab": {}
      },
      "source": [
        "house_df.printSchema()"
      ],
      "execution_count": 0,
      "outputs": []
    },
    {
      "cell_type": "markdown",
      "metadata": {
        "id": "YzkeDrSUAuRo",
        "colab_type": "text"
      },
      "source": [
        "### **Cast `price` type to `double` to avoid compatibility issues**"
      ]
    },
    {
      "cell_type": "code",
      "metadata": {
        "id": "xpe-xgZuAFCD",
        "colab_type": "code",
        "colab": {}
      },
      "source": [
        "house_df = house_df.withColumn(\"price\", house_df[\"price\"].cast(\"double\"))"
      ],
      "execution_count": 0,
      "outputs": []
    },
    {
      "cell_type": "markdown",
      "metadata": {
        "id": "dXlcRfzmNNCv",
        "colab_type": "text"
      },
      "source": [
        "### **Dataset Shape and Schema**\n",
        "\n",
        "The dataset contains **21,613** historical records of house sales; each record, contains the following set of **21** columns:\n",
        "- `id`: unique ID for each house sold (_numerical_, _discrete_);\n",
        "- `date`: Date when the house was sold (_datetime_);\n",
        "- **`price`**: The price a home has been sold (_numerical_, _continuous_); **[This is the _target_ variable we want to predict]**\n",
        "- `bedrooms`: Number of bedrooms (_numerical_, _discrete_);\n",
        "- `bathrooms`: Number of bathrooms (_numerical_, _continuous_) [.5 accounts for a room with a toilet but no shower];\n",
        "- `sqft_living`: Square footage of the house's interior living space (_numerical_, _continuous_);\n",
        "- `sqft_lot`: Square footage of the house's land space (_numerical_, _continuous_);\n",
        "- `floors`: Number of floors (_numerical_, _discrete_);\n",
        "- `waterfront`:  A dummy (i.e., binary) variable for whether the house is overlooking the waterfront or not (_categorical_, _nominal_);\n",
        "- `view`: An index from 0 to 4 of how good the view of the property was (_categorical_, _ordinal_);\n",
        "- `condition`: An index from 1 to 5 on the condition of the house (_categorical_, _ordinal_);\n",
        "- `grade`: An index from 1 to 13, where 1-3 falls short of building construction and design, 7 has an average level of construction and design, and 11-13 have a high quality level of construction and design (_categorical_, _ordinal_);\n",
        "- `sqft_above`: The square footage of the interior housing space that is above ground level (_numerical_, _continuous_);\n",
        "- `sqft_basement`: The square footage of the interior housing space that is below ground level (_numerical_, _continuous_);\n",
        "- `yr_built`: The year the house was initially built (_numerical_, _discrete_);\n",
        "- `yr_renovated`: The year of the house's last renovation (_numerical_, _discrete_);\n",
        "- `zipcode`: The zipcode area where the house is located (_categorical_, _nominal_);\n",
        "- `lat`: Latitude (_numerical_, _continuous_);\n",
        "- `long`: Longitude (_numerical_, _continuous_);\n",
        "- `sqft_living15`: The square footage of interior housing living space for the nearest **15** neighbors (_numerical_, _continuous_);\n",
        "- `sqft_lot15`: The square footage of the land lots of the nearest **15** neighbors (_numerical_, _continuous_).\n",
        "\n"
      ]
    },
    {
      "cell_type": "code",
      "metadata": {
        "id": "xsHSUHEzDS1-",
        "colab_type": "code",
        "colab": {}
      },
      "source": [
        "# Let's define some constants which we will use throughout this notebook\n",
        "INDEX_FEATURE = \"id\"\n",
        "NUMERICAL_FEATURES = [\"bedrooms\", \n",
        "                      \"bathrooms\",\n",
        "                      \"floors\",\n",
        "                      \"lat\",\n",
        "                      \"long\",\n",
        "                      \"sqft_above\", \n",
        "                      \"sqft_basement\",\n",
        "                      \"sqft_living\", \n",
        "                      \"sqft_living15\", \n",
        "                      \"sqft_lot\", \n",
        "                      \"sqft_lot15\",\n",
        "                      \"yr_built\",\n",
        "                      \"yr_renovated\"\n",
        "                      ]\n",
        "CATEGORICAL_FEATURES = [\"condition\", \"grade\", \"view\", \"waterfront\", \"zipcode\"]\n",
        "TARGET_VARIABLE = \"price\""
      ],
      "execution_count": 0,
      "outputs": []
    },
    {
      "cell_type": "code",
      "metadata": {
        "id": "pME8ArdkEt_M",
        "colab_type": "code",
        "colab": {}
      },
      "source": [
        "print(\"1 Index feature = `{:s}`\".format(INDEX_FEATURE))\n",
        "print(\"{:d} Numerical features = [{:s}]\".format(len(NUMERICAL_FEATURES), \", \".join([\"`{:s}`\".format(nf) for nf in NUMERICAL_FEATURES])))\n",
        "print(\"{:d} Categorical features = [{:s}]\".format(len(CATEGORICAL_FEATURES), \", \".join([\"`{:s}`\".format(nf) for nf in CATEGORICAL_FEATURES])))\n",
        "print(\"1 Target variable = `{:s}`\".format(TARGET_VARIABLE))"
      ],
      "execution_count": 0,
      "outputs": []
    },
    {
      "cell_type": "markdown",
      "metadata": {
        "id": "0Pjib1fiylb6",
        "colab_type": "text"
      },
      "source": [
        "### **Display the first 5 rows of the dataset**"
      ]
    },
    {
      "cell_type": "code",
      "metadata": {
        "id": "a4v-Z92rGXoe",
        "colab_type": "code",
        "colab": {}
      },
      "source": [
        "house_df.show(5)"
      ],
      "execution_count": 0,
      "outputs": []
    },
    {
      "cell_type": "markdown",
      "metadata": {
        "id": "1Df7cSAKmqQi",
        "colab_type": "text"
      },
      "source": [
        "### **Check for any missing values**"
      ]
    },
    {
      "cell_type": "code",
      "metadata": {
        "id": "ubkWy6w6mtvG",
        "colab_type": "code",
        "colab": {}
      },
      "source": [
        "for c in house_df.columns:\n",
        "  print(\"N. of missing values of column `{:s}` = {:d}\".format(c, house_df.where(col(c).isNull()).count()))"
      ],
      "execution_count": 0,
      "outputs": []
    },
    {
      "cell_type": "markdown",
      "metadata": {
        "id": "DHTM4wS2ztOJ",
        "colab_type": "text"
      },
      "source": [
        "# **2. Data Exploration**\n",
        "\n",
        "Before starting with the application of any (linear regression) modeling technique, a good practice is to first take a look at a few statistics computed from the data. In addition, drawing specific plots may help us spot interesting facts (e.g., the presence of outliers), which in turn could indicate us what steps to do next (e.g., outliers removal/winsorization). "
      ]
    },
    {
      "cell_type": "markdown",
      "metadata": {
        "id": "9TKWRYgl3jPi",
        "colab_type": "text"
      },
      "source": [
        "### **Summary of Descriptive Statistics**"
      ]
    },
    {
      "cell_type": "code",
      "metadata": {
        "id": "FvTv38i73pVh",
        "colab_type": "code",
        "colab": {}
      },
      "source": [
        "house_df.describe().show()"
      ],
      "execution_count": 0,
      "outputs": []
    },
    {
      "cell_type": "code",
      "metadata": {
        "id": "CK1VjwrvN4BV",
        "colab_type": "code",
        "colab": {}
      },
      "source": [
        "# To access plotting libraries, we need to first transform our PySpark DataFrame into a Pandas DataFrame\n",
        "house_pdf = house_df.toPandas() "
      ],
      "execution_count": 0,
      "outputs": []
    },
    {
      "cell_type": "code",
      "metadata": {
        "id": "okVR9377jPTf",
        "colab_type": "code",
        "colab": {}
      },
      "source": [
        "# Set some default plotting configuration using seaborn properties\n",
        "sns.set_style(\"darkgrid\")\n",
        "sns.set_context(\"notebook\", rc={\"lines.linewidth\": 2, \n",
        "                                \"xtick.labelsize\":14, \n",
        "                                \"ytick.labelsize\":14,\n",
        "                                \"axes.labelsize\": 18\n",
        "                                })"
      ],
      "execution_count": 0,
      "outputs": []
    },
    {
      "cell_type": "markdown",
      "metadata": {
        "id": "DlRGHd9WOr5i",
        "colab_type": "text"
      },
      "source": [
        "### **Distribution Plots**\n",
        "\n",
        "This set of plots will show the distribution of values of a subset of **19** columns of interest. The following feature will **not** be included:\n",
        "- `id`\n",
        "- `date`"
      ]
    },
    {
      "cell_type": "code",
      "metadata": {
        "id": "j76rXSw6PtOc",
        "colab_type": "code",
        "colab": {}
      },
      "source": [
        "# Select only the columns which will be included in the distribution plots\n",
        "PLOT_COLUMNS = sorted(NUMERICAL_FEATURES + CATEGORICAL_FEATURES + [TARGET_VARIABLE])\n",
        "print(\"Plotting {:d} columns from the dataset:\\n[{:s}]\".format(len(PLOT_COLUMNS), \n",
        "                                                              \", \".join([\"`{:s}`\".format(pc) for pc in PLOT_COLUMNS])\n",
        "                                                              ))"
      ],
      "execution_count": 0,
      "outputs": []
    },
    {
      "cell_type": "code",
      "metadata": {
        "id": "8esOySR-Oh1Q",
        "colab_type": "code",
        "colab": {}
      },
      "source": [
        "# Plot the distribution of values of each column of interest\n",
        "n_rows = 5\n",
        "n_cols = 4\n",
        "\n",
        "fig, axes = plt.subplots(n_rows, n_cols, figsize=(20,20))\n",
        "fig.delaxes(axes[4][3]) # the last ax will be empty as there are 19 columns for 20 slots, so just delete it!\n",
        "\n",
        "for i,f in enumerate(PLOT_COLUMNS):\n",
        "  _ = sns.distplot(house_pdf[f],\n",
        "                   kde_kws={\"color\": \"#ca0020\", \"lw\": 1}, \n",
        "                   hist_kws={\"histtype\": \"bar\", \"edgecolor\": \"k\", \"linewidth\": 1,\"alpha\": 0.8, \"color\": \"#92c5de\"},\n",
        "                   ax=axes[i//n_cols, i%n_cols]\n",
        "                   )\n",
        "\n",
        "fig.tight_layout(pad=1.5)"
      ],
      "execution_count": 0,
      "outputs": []
    },
    {
      "cell_type": "markdown",
      "metadata": {
        "id": "__pFmdPp2cBJ",
        "colab_type": "text"
      },
      "source": [
        "### **Relationship between _numerical continuous_ features and the _target variable_ (`price`)**"
      ]
    },
    {
      "cell_type": "code",
      "metadata": {
        "id": "fp5l-4kUfZQg",
        "colab_type": "code",
        "colab": {}
      },
      "source": [
        "NUMERICAL_CONTINUOUS_FEATURES = sorted(list(set(NUMERICAL_FEATURES) - set([\"bedrooms\", \"floors\", \"yr_renovated\"])))\n",
        "print(\"Regression plots of {:d} numerical continuous features:\\n[{:s}]\".format(len(NUMERICAL_CONTINUOUS_FEATURES),\n",
        "                                                                              \", \".join([\"`{:s}`\".format(ncf) for ncf in NUMERICAL_CONTINUOUS_FEATURES])\n",
        "                                                                              ))"
      ],
      "execution_count": 0,
      "outputs": []
    },
    {
      "cell_type": "code",
      "metadata": {
        "id": "YtNI7UoE6dw7",
        "colab_type": "code",
        "colab": {}
      },
      "source": [
        "# Plot the relationship between each continuous feature (i.e., independent variable) with the target (i.e., dependent) variable\n",
        "n_rows = 2\n",
        "n_cols = 5\n",
        "\n",
        "fig, axes = plt.subplots(n_rows, n_cols, figsize=(20,14))\n",
        "\n",
        "for i,f in enumerate(NUMERICAL_CONTINUOUS_FEATURES):\n",
        "  _ = sns.regplot(data=house_pdf, \n",
        "                  x=f, \n",
        "                  y=\"price\",\n",
        "                  color=\"#00b159\",\n",
        "                  ax=axes[i//n_cols, i%n_cols])\n",
        "\n",
        "fig.tight_layout(pad=1.5)"
      ],
      "execution_count": 0,
      "outputs": []
    },
    {
      "cell_type": "markdown",
      "metadata": {
        "id": "nGBJyDm2KPVA",
        "colab_type": "text"
      },
      "source": [
        "#### **Observations**\n",
        "\n",
        "It seems there is a moderate linear relationship between `sqft_living` and `price`. Still, the former feature _alone_ might not be enough to correctly explain observed values of `price`."
      ]
    },
    {
      "cell_type": "markdown",
      "metadata": {
        "id": "YBlrbZpqFsYI",
        "colab_type": "text"
      },
      "source": [
        "### **Relationship between _numerical discrete_/_categorical_ features and the _target variable_ (`price`)**"
      ]
    },
    {
      "cell_type": "code",
      "metadata": {
        "id": "DlFiw8ywF5xV",
        "colab_type": "code",
        "colab": {}
      },
      "source": [
        "DISCRETE_FEATURES = sorted(list(set(CATEGORICAL_FEATURES + [\"bedrooms\", \"bathrooms\", \"floors\"]) - set([\"zipcode\"])))\n",
        "print(\"Box plots of {:d} discrete features:\\n[{:s}]\".format(len(DISCRETE_FEATURES),\n",
        "                                                                              \", \".join([\"`{:s}`\".format(df) for df in DISCRETE_FEATURES])\n",
        "                                                                              ))"
      ],
      "execution_count": 0,
      "outputs": []
    },
    {
      "cell_type": "code",
      "metadata": {
        "id": "Ow45r2cG2r9e",
        "colab_type": "code",
        "colab": {}
      },
      "source": [
        "# Plot the relationship between each discrete feature (i.e., independent variable) with the target (i.e., dependent) variable\n",
        "n_rows = 3\n",
        "n_cols = 2\n",
        "\n",
        "fig, axes = plt.subplots(n_rows, n_cols, figsize=(16,16))\n",
        "\n",
        "for i,f in enumerate(DISCRETE_FEATURES[1:]):\n",
        "  _ = sns.boxplot(data=house_pdf,\n",
        "                  x=f, \n",
        "                  y=\"price\", \n",
        "                  ax=axes[i//n_cols, i%n_cols])\n",
        "  \n",
        "fig.tight_layout(pad=1.5)\n",
        "\n",
        "# Plot `bathrooms` on a dedicated chart\n",
        "fig, ax = plt.subplots(1, 1, figsize=(16,8))\n",
        "_ = sns.boxplot(data=house_pdf, x=\"bathrooms\", y=\"price\")"
      ],
      "execution_count": 0,
      "outputs": []
    },
    {
      "cell_type": "markdown",
      "metadata": {
        "id": "c7LJAWBLQcf6",
        "colab_type": "text"
      },
      "source": [
        "### **Correlation between features**\n",
        "\n",
        "We know that having too many features in a model is not always a good thing because it might cause _overfitting_ and therefore bad generalization performance to unseen examples. Thus, if a feature does not improve our model a lot, removing it may indeed be a better choice.\n",
        "\n",
        "Things get even worst if there exists very high **correlation** between a subset of features, as keeping all of them most of the time will again cause overfitting. For instance, if we figure out that `sqt_above` is highly correlated with `sqt_living` there is no point for us to keep them both, as one can be easily derived from the other and together they do not add any valuable predictive power to our model.\n",
        "\n",
        "The presence of high correlation (whether it be positive or negative) can be checked by computing and visualizing the **correlation matrix**. However, this does not mean that we must _always_ remove one of the highly correlated features. In some cases, even if two features are highly correlated they still may capture different aspects of the domain objects."
      ]
    },
    {
      "cell_type": "markdown",
      "metadata": {
        "id": "uUOs38v3kCuY",
        "colab_type": "text"
      },
      "source": [
        "### **Pearson Correlation Coefficient and Correlation Matrix**\n",
        "\n",
        "Remember that given 2 random variables $X$ and $Y$, their _Pearson Correlation Coefficient_ $\\rho(X, Y)$ can be computed as follows:\n",
        "\n",
        "$$\n",
        "\\rho(X, Y) = Cov(X_{\\text{std}}, Y_{\\text{std}}) = E[X_{\\text{std}} - E[X_{\\text{std}}]]*E[Y_{\\text{std}} - E[Y_{\\text{std}}] ] = \n",
        "$$\n",
        "$$\n",
        "=E[X_{\\text{std}}]*E[Y_{\\text{std}}] = E\\Bigg[\\frac{(X - \\mu_X)}{\\sigma_X}\\Bigg] * E\\Bigg[\\frac{(Y - \\mu_Y)}{\\sigma_Y}\\Bigg] =\n",
        "$$\n",
        "$$\n",
        "=\\frac{E[X - \\mu_X]*E[Y - \\mu_Y]}{\\sigma_X \\sigma_Y} = \\frac{Cov(X,Y)}{\\sigma_X \\sigma_Y}\n",
        "$$\n",
        "\n",
        "Eventually, the **correlation matrix** $M$ is the triangular square matrix such that $M[i][j] = \\rho(X_i, X_j)$"
      ]
    },
    {
      "cell_type": "code",
      "metadata": {
        "id": "KYfav2GJS0yv",
        "colab_type": "code",
        "colab": {}
      },
      "source": [
        "# Select the features we want to use to compute the correlation matrix (i.e., everything except `id` and `date`)\n",
        "features = [TARGET_VARIABLE] + sorted(NUMERICAL_FEATURES + CATEGORICAL_FEATURES)\n",
        "\n",
        "mask = np.zeros_like(house_pdf[features].corr(), dtype=np.bool) \n",
        "mask[np.triu_indices_from(mask)] = True \n",
        "\n",
        "with sns.axes_style(\"white\"): # Temporarily set the background to white\n",
        "  fig, ax = plt.subplots(figsize=(16, 12))\n",
        "  plt.title('Pearson Correlation Matrix', fontsize=24)\n",
        "\n",
        "  cmap = sns.diverging_palette(220, 10, as_cmap=True)\n",
        "\n",
        "  _ = sns.heatmap(house_pdf[features].corr(), \n",
        "              linewidths=0.25, \n",
        "              vmax=0.7, \n",
        "              square=True,\n",
        "              ax=ax, \n",
        "              cmap=cmap, \n",
        "              linecolor='w', \n",
        "              annot=True, \n",
        "              annot_kws={\"size\":8}, \n",
        "              mask=mask, \n",
        "              cbar_kws={\"shrink\": .9});"
      ],
      "execution_count": 0,
      "outputs": []
    },
    {
      "cell_type": "markdown",
      "metadata": {
        "id": "qTeXo6eFL3Em",
        "colab_type": "text"
      },
      "source": [
        "#### **Observations**\n",
        "\n",
        "As expected, `sqft_living` and `sqft_above` are high-positively correlated with each other ($\\rho = 0.88$). Similarly, also `bathrooms`/`bedrooms` and `sqft_living` are high-positively correlated with each other ($\\rho=0.75$ and $0.70$, respectively). Again, this seems totally legitimate, as the number of bathrooms and bedrooms depends on the square footage of a house.\n",
        "\n",
        "Later on, we will see how to deal with this multicollinearity between features, and what will be the effect on the quality of the learned model when those features are retained or removed."
      ]
    },
    {
      "cell_type": "markdown",
      "metadata": {
        "id": "66pFGdch-BU_",
        "colab_type": "text"
      },
      "source": [
        "# **3. The Learning Pipeline**"
      ]
    },
    {
      "cell_type": "markdown",
      "metadata": {
        "id": "Wv3q6FKlWgbu",
        "colab_type": "text"
      },
      "source": [
        "### **Important Remark on Dataset Transformations**\n",
        "\n",
        "Any dataset transformation we want to perform must be **derived** from the _training set_ portion of the original dataset, and then applied to (_validation_ and) _test set_.\n",
        "\n",
        "Just to make an example, if we need to standardize our feature values we will also need to compute the **mean** and the **standard deviation** of each feature. Now, those statistics **cannot** be computed by looking at the whole dataset. In other words, we first need to split our dataset into at least two portions: _training_ and _test set_. Then, we will compute the mean and standard deviation of all the feature values from the observations contained in the training set, and standardize those values accordingly. Of course, we will need also to standardize features appearing in the test set, and in order to do that you will use the means and standard deviations **as previoulsly computed from the training set**.\n",
        "\n",
        "This is just following the general principle: anything we learn must be learned from the model's training data."
      ]
    },
    {
      "cell_type": "markdown",
      "metadata": {
        "colab_type": "text",
        "id": "xlUz0-TNb4Jo"
      },
      "source": [
        "### **Dataset Splitting: Training vs. Test Set**\n",
        "\n",
        "Before moving along with any preprocessing involving data transformations, we will split our dataset into **2** portions:\n",
        "- _training set_ (e.g., accounting for 90% of the total number of instances);\n",
        "- _test set_ (e.g., accounting for the remaining 10% of instances)"
      ]
    },
    {
      "cell_type": "code",
      "metadata": {
        "id": "ZSzZLA9QcA_P",
        "colab_type": "code",
        "colab": {}
      },
      "source": [
        "# Randomly split our original dataset `house_df` into 90÷10 for training and test, respectively\n",
        "train_df, test_df = house_df.randomSplit([0.9, 0.1], seed=RANDOM_SEED)"
      ],
      "execution_count": 0,
      "outputs": []
    },
    {
      "cell_type": "markdown",
      "metadata": {
        "id": "Kh179KdCcS81",
        "colab_type": "text"
      },
      "source": [
        "### **Working on the Training Set only**\n",
        "\n",
        "From now on, we will be working on the training set portion only. The test set will come back into play when we evaluate our learned model."
      ]
    },
    {
      "cell_type": "markdown",
      "metadata": {
        "id": "tdIyqhU89eju",
        "colab_type": "text"
      },
      "source": [
        "## **The Quickest Linear Regression Model**\n",
        "\n",
        "Initially, we try to learn a simple (i.e., _univariate_) linear regression model. To this end, we select only one feature from the original set, which we believe it is mostly related to our target variable `price`.\n",
        "As an example, suppose we choose `sqft_living`.\n",
        "\n",
        "Our linear regression model would thus look like the following:\n",
        "\n",
        "$$\n",
        "\\underbrace{h_{\\theta}(x)}_{\\texttt{price}} = \\theta_0 + \\theta_1 \\cdot \\underbrace{x}_{\\texttt{sqft_living}}\n",
        "$$"
      ]
    },
    {
      "cell_type": "markdown",
      "metadata": {
        "id": "-VmTwlYp-cUL",
        "colab_type": "text"
      },
      "source": [
        "### **Extract the single predictor variable (`sqft_living`) and the target variable (`price`)**"
      ]
    },
    {
      "cell_type": "code",
      "metadata": {
        "id": "IZc7OWNK-E9h",
        "colab_type": "code",
        "colab": {}
      },
      "source": [
        "# Select `sqft_living` feature only together with the target variable `price` from the original `train_df`\n",
        "from pyspark.ml.feature import VectorAssembler\n",
        "\n",
        "assembler = VectorAssembler(inputCols=[\"sqft_living\"], \n",
        "                            outputCol=\"features\")\n",
        "\n",
        "simple_train_df = assembler.transform(train_df)"
      ],
      "execution_count": 0,
      "outputs": []
    },
    {
      "cell_type": "code",
      "metadata": {
        "id": "5S0LFBk5-XMN",
        "colab_type": "code",
        "colab": {}
      },
      "source": [
        "# Select only the two columns which we are interested in, i.e., `features` and `price`\n",
        "simple_train_df = simple_train_df.select([\"features\", \"price\"])\n",
        "simple_train_df.show(5, truncate=False)"
      ],
      "execution_count": 0,
      "outputs": []
    },
    {
      "cell_type": "markdown",
      "metadata": {
        "id": "zPF-F3d0H0yh",
        "colab_type": "text"
      },
      "source": [
        "### **The General Optimization Problem behind Linear Regression**\n",
        "Given an $m$-by-$n+1$ **feature matrix** $\\mathbf{X}$, an $m$-by-1 **target vector** $\\mathbf{y}$, and an $n+1$-by-1 **parameter vector** $\\boldsymbol{\\theta}$ associated with a hypothesis function defined as $h_{\\boldsymbol{\\theta}}(\\mathbf{x}): \\theta_0 + \\theta_1 x_1 + \\ldots + \\theta_n x_n = \\mathbf{x}^T\\cdot \\boldsymbol{\\theta}$\n",
        "\n",
        "In its simplest form (a.k.a. **Ordinary Least Squares** or **OLS**), the linear regression problem aims to find the **parameter vector** $\\boldsymbol{\\theta}^{*}$ which minimizes the **Mean Squared Error**.\n",
        "\n",
        "$$\n",
        "\\boldsymbol{\\theta}^* = \\text{argmin}_{\\boldsymbol{\\theta}\\in \\mathbb{R}^n} \\underbrace{\\frac{1}{m} ||\\mathbf{X}\\cdot \\boldsymbol{\\theta} -\\mathbf{y}||^2}_{\\text{Mean Squared Error}}\n",
        "$$\n",
        "\n",
        "OLS is a special case of a more general optimization framework, which is known as **Elastic Net** and is defined as follows:\n",
        "\n",
        "$$\n",
        "\\boldsymbol{\\theta}^* = \\text{argmin}_{\\boldsymbol{\\theta}\\in \\mathbb{R}^n} \\frac{1}{m} ||\\mathbf{X}\\cdot \\boldsymbol{\\theta} -\\mathbf{y}||^2 + \\lambda\\Big(\\alpha |\\boldsymbol{\\theta}| + (1-\\alpha)||\\boldsymbol{\\theta}||^2\\Big)\n",
        "$$\n",
        "where:\n",
        "- $\\lambda \\geq 0$ is the **regularization parameter**;\n",
        "- $\\alpha \\in [0,1]$ is the **tradeoff parameter** for the regularization penalties;\n",
        "- $|\\boldsymbol{\\theta}|$ is the L1-norm of the **parameter vector**;\n",
        "- $||\\boldsymbol{\\theta}||^2$ is the squared L2-norm (i.e., squared Euclidean norm) of the **parameter vector**.\n",
        "\n",
        "Depending on the values that are plugged in the general optimization framework above, we have the following cases:\n",
        "\n",
        "- $\\lambda = 0 \\Rightarrow $ **OLS** (no regularization at all);\n",
        "- $\\lambda > 0$ and $\\alpha = 1 \\Rightarrow$ **Least Absolute Shrinkage and Selection Operator** or **LASSO** (L1-regularization only);\n",
        "- $\\lambda > 0$ and $\\alpha = 0 \\Rightarrow$ **Ridge** (L2-regularization only);\n",
        "- Any other case where $\\lambda > 0$ and $0 < \\alpha < 1$ balances between L1- and L2-regularization).\n"
      ]
    },
    {
      "cell_type": "markdown",
      "metadata": {
        "id": "MJCWzadb-qL-",
        "colab_type": "text"
      },
      "source": [
        "### **Learn the model using the `LinearRegression` object**\n",
        "\n",
        "We use the `LinearRegression` object provided within the `pyspark.ml.regression` package. Any further information can be found in the [API documentation](https://spark.apache.org/docs/latest/api/python/pyspark.ml.html#pyspark.ml.regression.LinearRegression).\n",
        "\n",
        "Among the parameters we can specify, let's have a look at the most important ones:\n",
        "- `regParam` is the regularization parameter (or $\\lambda$);\n",
        "- `elasticNetParam` is the tradeoff parameter for regularization penalties (or $\\alpha$);\n",
        "  - `regParam = 0` and `elasticNetParam = 0` means there is no regularization (i.e., OLS);\n",
        "  - `regParam > 0` and `elasticNetParam = 0` means there is only L2-regularization (Ridge); \n",
        "  - `regParam > 0` and `elasticNetParam = 1` means there is only L1-regularization (LASSO);\n",
        "  - `regParam > 0` and `0 < elasticNetParam < 1` means there is both L1- and L2-regularization (Elastic Net);\n",
        "- `solver` can take one of the following values: `l-bfgs`, `normal` and `auto`. \n",
        "  - `l-bfgs` stands for **Limited-memory BFGS** which is a limited-memory quasi-Newton optimization _iterative_ method; \n",
        "  - `normal` refers to **Normal Equation** _analytical_ method, which computes the solution to the optimization problem _directly_ using the **pseudo-inverse** of the feature matrix and multiplying it by the target vector;\n",
        "  - `auto` leaves PySpark to select the solver algorithm automatically."
      ]
    },
    {
      "cell_type": "markdown",
      "metadata": {
        "id": "_7YsIr07i5RK",
        "colab_type": "text"
      },
      "source": [
        "### **Training a simple univariate OLS linear regressor (with no regularization)**"
      ]
    },
    {
      "cell_type": "code",
      "metadata": {
        "id": "k2YVAZcO9u1c",
        "colab_type": "code",
        "colab": {}
      },
      "source": [
        "from pyspark.ml.regression import LinearRegression\n",
        "\n",
        "# First of all, let's just setup a very basic OLS linear regressor (i.e., univariate with no regularizatio term)\n",
        "lr = LinearRegression(featuresCol=\"features\", labelCol=\"price\")\n",
        "# Train the actual model on our training set `simple_train_df`\n",
        "lr_model = lr.fit(simple_train_df)"
      ],
      "execution_count": 0,
      "outputs": []
    },
    {
      "cell_type": "markdown",
      "metadata": {
        "id": "J_3Hblc4jCIP",
        "colab_type": "text"
      },
      "source": [
        "#### **Intercept ($\\theta_0$) and Coefficient ($\\theta_1$)**"
      ]
    },
    {
      "cell_type": "code",
      "metadata": {
        "id": "__i2fdx69w5d",
        "colab_type": "code",
        "colab": {}
      },
      "source": [
        "print(\"Intercept: \" + str(lr_model.intercept))\n",
        "print(\"Coefficient: \" + str(lr_model.coefficients))"
      ],
      "execution_count": 0,
      "outputs": []
    },
    {
      "cell_type": "markdown",
      "metadata": {
        "id": "eWBZCzw6jjJm",
        "colab_type": "text"
      },
      "source": [
        "#### **Measuring performance on the Training Set: $\\text{RMSE}$ and $\\text{R}^2$ statistic**"
      ]
    },
    {
      "cell_type": "code",
      "metadata": {
        "id": "JPRYCw3y90OI",
        "colab_type": "code",
        "colab": {}
      },
      "source": [
        "training_result = lr_model.summary\n",
        "print(\"***** Training Set *****\")\n",
        "print(\"RMSE: {:.3f}\".format(training_result.rootMeanSquaredError))\n",
        "print(\"R2: {:.3f}\".format(training_result.r2))\n",
        "print(\"Adjusted R2: {:.3f}\".format(training_result.r2adj))\n",
        "print(\"***** Training Set *****\")"
      ],
      "execution_count": 0,
      "outputs": []
    },
    {
      "cell_type": "markdown",
      "metadata": {
        "id": "a8acPJn5j9rc",
        "colab_type": "text"
      },
      "source": [
        "### **Testing the simple univariate OLS linear regressor learned above on the Test Set**"
      ]
    },
    {
      "cell_type": "code",
      "metadata": {
        "id": "pcMHUfGb-NVe",
        "colab_type": "code",
        "colab": {}
      },
      "source": [
        "# Select `sqft_living` feature only together with the target variable `price` from the original `train_df`\n",
        "from pyspark.ml.feature import VectorAssembler\n",
        "\n",
        "assembler = VectorAssembler(inputCols=[\"sqft_living\"], \n",
        "                            outputCol=\"features\")\n",
        "\n",
        "simple_test_df = assembler.transform(test_df)"
      ],
      "execution_count": 0,
      "outputs": []
    },
    {
      "cell_type": "code",
      "metadata": {
        "id": "WYLcBk8R-AI3",
        "colab_type": "code",
        "colab": {}
      },
      "source": [
        "# `lr_model` is a Transformer which can be used to \"transform\" our test set\n",
        "lr_predictions = lr_model.transform(simple_test_df) "
      ],
      "execution_count": 0,
      "outputs": []
    },
    {
      "cell_type": "code",
      "metadata": {
        "id": "igZ7TcCPqqxM",
        "colab_type": "code",
        "colab": {}
      },
      "source": [
        "# `lr_predictions` is a dataframe containing (among other things) the predictions made by `lr_model` on the test set\n",
        "lr_predictions.select(\"features\", \"prediction\", \"price\").show(5)"
      ],
      "execution_count": 0,
      "outputs": []
    },
    {
      "cell_type": "markdown",
      "metadata": {
        "id": "Dy4MzTWckKxV",
        "colab_type": "text"
      },
      "source": [
        "#### **Measuring performance on the Test Set: $\\text{RMSE}$ and $\\text{R}^2$ statistic**"
      ]
    },
    {
      "cell_type": "code",
      "metadata": {
        "id": "JlOofISU-dmw",
        "colab_type": "code",
        "colab": {}
      },
      "source": [
        "test_result = lr_model.evaluate(simple_test_df)\n",
        "print(\"***** Test Set *****\")\n",
        "print(\"RMSE: {:.3f}\".format(test_result.rootMeanSquaredError))\n",
        "print(\"R2: {:.3f}\".format(test_result.r2))\n",
        "print(\"Adjusted R2: {:.3f}\".format(test_result.r2adj))\n",
        "print(\"***** Test Set *****\")"
      ],
      "execution_count": 0,
      "outputs": []
    },
    {
      "cell_type": "markdown",
      "metadata": {
        "id": "LSh-GRysnVad",
        "colab_type": "text"
      },
      "source": [
        "#### **Observations**\n",
        "\n",
        "It turns out that the very simple univariate linear regressor does not work well. This may be due to the fact that a single explanatory variable (feature) alone like `sqft_living` could be not enough to nicely predict our target variable `price`.\n",
        "\n",
        "Also, the fact that both $R^2$ and $R^2_{\\text{adj}}$ are slightly better on the test set than on the training set may be simply due to a \"lucky\" random split of the initial dataset."
      ]
    },
    {
      "cell_type": "markdown",
      "metadata": {
        "id": "Uzic8uSpl8y3",
        "colab_type": "text"
      },
      "source": [
        "## **Summary of the main findings from Data Exploration step**\n",
        "\n",
        "Let's now go back to the result of our exploratory data analysis above, where we were able to observe the following:\n",
        "- Both continuous and categorical features;\n",
        "- Different scales of feature values;\n",
        "- Several outliers on many features (see the boxplots above)."
      ]
    },
    {
      "cell_type": "markdown",
      "metadata": {
        "id": "11HcGwvdg90A",
        "colab_type": "text"
      },
      "source": [
        "### **Transform Categorical features into Numerical using One-Hot Encoding**\n",
        "\n",
        "Let's address the first issue indicated above.\n",
        "\n",
        "To transform _categorical_ features into _numerical_ ones we proceed as follows.\n",
        "We setup a pipeline which is composed of the following steps:\n",
        "- [`StringIndexer`](https://spark.apache.org/docs/latest/ml-features#stringindexer): encodes a string column of labels to a column of label indices. The indices are in `[0, numLabels)`, and 4 ordering options are supported (default `frequencyDesc`, which assigns the most frequent label the index `0`, and so on and so forth).\n",
        "- [`OneHotEncoderEstimator`](https://spark.apache.org/docs/latest/ml-features#onehotencoderestimator): maps a categorical feature, represented as a label index, to a binary vector with at most a single one-value indicating the presence of a specific feature value from among the set of all feature values. An important parameter is `handleInvalid`, which indicates how to deal with previously unseen labels. By default this raises an error but it can be set to as `keep` to assign previously unseen labels a fallback value.\n",
        "- [`VectorAssembler`](https://spark.apache.org/docs/latest/ml-features#vectorassembler): is a transformer that combines a given list of columns into a single vector column."
      ]
    },
    {
      "cell_type": "code",
      "metadata": {
        "id": "BEHqXC-yvTft",
        "colab_type": "code",
        "colab": {}
      },
      "source": [
        "# This function is responsible to implement the pipeline above for transforming categorical features into numerical ones\n",
        "def to_numerical(df, numerical_features, categorical_features, target_variable):\n",
        "\n",
        "    \"\"\"\n",
        "    Args:\n",
        "        - df: the input dataframe\n",
        "        - numerical_features: the list of column names in `df` corresponding to numerical features\n",
        "        - categorical_features: the list of column names in `df` corresponding to categorical features\n",
        "        - target_variable: the column name in `df` corresponding to the target variable\n",
        "\n",
        "    Return:\n",
        "        - transformer: the pipeline of transformation fit to `df` (for future usage)\n",
        "        - df_transformed: the dataframe transformed according to the pipeline\n",
        "    \"\"\"\n",
        "    \n",
        "    from pyspark.ml import Pipeline\n",
        "    from pyspark.ml.feature import StringIndexer, OneHotEncoderEstimator, VectorAssembler\n",
        "\n",
        "    # 1. Create a list of indexers, i.e., one for each categorical feature\n",
        "    indexers = [StringIndexer(inputCol=c, outputCol=\"{0}_indexed\".format(c), handleInvalid=\"keep\") for c in categorical_features]\n",
        "\n",
        "    # 2. Create the one-hot encoder for the list of features just indexed (this encoder will keep any unseen label in the future)\n",
        "    encoder = OneHotEncoderEstimator(inputCols=[indexer.getOutputCol() for indexer in indexers], \n",
        "                                    outputCols=[\"{0}_encoded\".format(indexer.getOutputCol()) for indexer in indexers], \n",
        "                                    handleInvalid=\"keep\")\n",
        "    \n",
        "    # 3. Assemble all the features into a single vector\n",
        "    assembler = VectorAssembler(inputCols=encoder.getOutputCols() + numerical_features, outputCol=\"features\")\n",
        "\n",
        "    # 4. Setup the pipeline with the stages above\n",
        "    pipeline = Pipeline(stages=indexers + [encoder] + [assembler])\n",
        "\n",
        "    # 5. Transform the input dataframe accordingly\n",
        "    transformer = pipeline.fit(df)\n",
        "    df_transformed = transformer.transform(df)\n",
        "\n",
        "    # 6. Optionally, change the name of the target variable to `label` (if that is different), as PySpark implicitly assumes this is the name of the column to predict\n",
        "    if target_variable != \"label\":\n",
        "        df_transformed = df_transformed.withColumnRenamed(target_variable, \"label\")\n",
        "\n",
        "    # 7. Eventually, return both the transformed dataframe and the transformer object for future transformations\n",
        "    return transformer, df_transformed "
      ],
      "execution_count": 0,
      "outputs": []
    },
    {
      "cell_type": "code",
      "metadata": {
        "id": "ueRiKbiTxJsr",
        "colab_type": "code",
        "colab": {}
      },
      "source": [
        "# Transform the training set and get back both the transformer and the new dataset\n",
        "oh_transformer, oh_train_df = to_numerical(train_df, NUMERICAL_FEATURES, CATEGORICAL_FEATURES, TARGET_VARIABLE)"
      ],
      "execution_count": 0,
      "outputs": []
    },
    {
      "cell_type": "code",
      "metadata": {
        "id": "vTix1SBg71Xr",
        "colab_type": "code",
        "colab": {}
      },
      "source": [
        "# Show the result of numerical transformation\n",
        "oh_train_df.show(5)"
      ],
      "execution_count": 0,
      "outputs": []
    },
    {
      "cell_type": "code",
      "metadata": {
        "id": "yYpzQRWqyxUx",
        "colab_type": "code",
        "colab": {}
      },
      "source": [
        "# Select `features` and `label` (i.e., formerly `price`) target variable only\n",
        "train = oh_train_df.select([\"features\", \"label\"])"
      ],
      "execution_count": 0,
      "outputs": []
    },
    {
      "cell_type": "code",
      "metadata": {
        "id": "K2pZg_Pey-yP",
        "colab_type": "code",
        "colab": {}
      },
      "source": [
        "train.show(5, truncate=False)"
      ],
      "execution_count": 0,
      "outputs": []
    },
    {
      "cell_type": "markdown",
      "metadata": {
        "id": "teSVf-WFzvs-",
        "colab_type": "text"
      },
      "source": [
        "### **Training an OLS Multivariate Linear Regressor (with no regularization) using all the features**"
      ]
    },
    {
      "cell_type": "code",
      "metadata": {
        "id": "Mmgq2uMK0AMF",
        "colab_type": "code",
        "colab": {}
      },
      "source": [
        "# `lr` is still the LinearRegressor object we set up above (the only difference here is that now `features` refers to the whole feature vector)\n",
        "lr = LinearRegression(featuresCol=\"features\", labelCol=\"label\") # Analogous to lr = LinearRegression()\n",
        "# Train the actual model on our training set `train`\n",
        "lr_model = lr.fit(train)"
      ],
      "execution_count": 0,
      "outputs": []
    },
    {
      "cell_type": "markdown",
      "metadata": {
        "id": "vf8I0bal0hsi",
        "colab_type": "text"
      },
      "source": [
        "### **Intercept ($\\theta_0$) and Coefficients ($\\theta_1, \\ldots, \\theta_n$)**"
      ]
    },
    {
      "cell_type": "code",
      "metadata": {
        "id": "NyWx968q0zdk",
        "colab_type": "code",
        "colab": {}
      },
      "source": [
        "print(\"Intercept: \" + str(lr_model.intercept))\n",
        "print(\"Coefficients: \" + str(lr_model.coefficients))"
      ],
      "execution_count": 0,
      "outputs": []
    },
    {
      "cell_type": "markdown",
      "metadata": {
        "id": "_QEPpDoV1JnK",
        "colab_type": "text"
      },
      "source": [
        "#### **Measuring performance on the Training Set: $\\text{RMSE}$ and $\\text{R}^2$ statistic**"
      ]
    },
    {
      "cell_type": "code",
      "metadata": {
        "id": "OsID3E0r07i5",
        "colab_type": "code",
        "colab": {}
      },
      "source": [
        "training_result = lr_model.summary\n",
        "print(\"***** Training Set *****\")\n",
        "print(\"RMSE: {:.3f}\".format(training_result.rootMeanSquaredError))\n",
        "print(\"R2: {:.3f}\".format(training_result.r2))\n",
        "print(\"Adjusted R2: {:.3f}\".format(training_result.r2adj))\n",
        "print(\"***** Training Set *****\")"
      ],
      "execution_count": 0,
      "outputs": []
    },
    {
      "cell_type": "markdown",
      "metadata": {
        "id": "ena6EJ0Y5qhx",
        "colab_type": "text"
      },
      "source": [
        "### **Use the One-Hot encoding pipeline to transform the Test Set**"
      ]
    },
    {
      "cell_type": "code",
      "metadata": {
        "id": "KPgeFLQC1S1t",
        "colab_type": "code",
        "colab": {}
      },
      "source": [
        "# Here, we use the same transformer as the one returned by the `to_numerical` function above yet applied to the test set\n",
        "oh_test_df = oh_transformer.transform(test_df)"
      ],
      "execution_count": 0,
      "outputs": []
    },
    {
      "cell_type": "code",
      "metadata": {
        "id": "YoU_fGuA2ivF",
        "colab_type": "code",
        "colab": {}
      },
      "source": [
        "oh_test_df.show(5)"
      ],
      "execution_count": 0,
      "outputs": []
    },
    {
      "cell_type": "code",
      "metadata": {
        "id": "slDBka0G1fzo",
        "colab_type": "code",
        "colab": {}
      },
      "source": [
        "# Rename the target variable `price` to `label`\n",
        "oh_test_df = oh_test_df.withColumnRenamed(TARGET_VARIABLE, \"label\")\n",
        "oh_test_df.show(5)"
      ],
      "execution_count": 0,
      "outputs": []
    },
    {
      "cell_type": "code",
      "metadata": {
        "id": "oMNJ1NdtwXB8",
        "colab_type": "code",
        "colab": {}
      },
      "source": [
        "# Select `features` and `label` only\n",
        "test = oh_test_df.select([\"features\", \"label\"])\n",
        "test.show(5)"
      ],
      "execution_count": 0,
      "outputs": []
    },
    {
      "cell_type": "markdown",
      "metadata": {
        "id": "LokzdSNP6T48",
        "colab_type": "text"
      },
      "source": [
        "### **Compute predictions on the Test Set according to the model learned on the Training Set**"
      ]
    },
    {
      "cell_type": "code",
      "metadata": {
        "id": "Y-tiLfEA1tml",
        "colab_type": "code",
        "colab": {}
      },
      "source": [
        "# `lr_model` is a Transformer which can be used to \"transform\" our test set\n",
        "lr_predictions = lr_model.transform(test)"
      ],
      "execution_count": 0,
      "outputs": []
    },
    {
      "cell_type": "code",
      "metadata": {
        "id": "KjjN-q_dw8CA",
        "colab_type": "code",
        "colab": {}
      },
      "source": [
        "# `lr_predictions` is a dataframe containing (among other things) the predictions made by `lr_model` on the test set\n",
        "lr_predictions.select(\"features\", \"prediction\", \"label\").show(5)"
      ],
      "execution_count": 0,
      "outputs": []
    },
    {
      "cell_type": "markdown",
      "metadata": {
        "id": "9fue7UUz5mom",
        "colab_type": "text"
      },
      "source": [
        "#### **Measuring performance on the Test Set: $\\text{RMSE}$ and $\\text{R}^2$ statistic**"
      ]
    },
    {
      "cell_type": "code",
      "metadata": {
        "id": "0GySC6TS5c_i",
        "colab_type": "code",
        "colab": {}
      },
      "source": [
        "test_result = lr_model.evaluate(test)\n",
        "print(\"***** Test Set *****\")\n",
        "print(\"RMSE: {:.3f}\".format(test_result.rootMeanSquaredError))\n",
        "print(\"R2: {:.3f}\".format(test_result.r2))\n",
        "print(\"Adjusted R2: {:.3f}\".format(test_result.r2adj))\n",
        "print(\"***** Test Set *****\")"
      ],
      "execution_count": 0,
      "outputs": []
    },
    {
      "cell_type": "markdown",
      "metadata": {
        "id": "kv5bwWvO9HsE",
        "colab_type": "text"
      },
      "source": [
        "## **Summary of the main findings from Data Exploration step**\n",
        "\n",
        "From our exploratory data analysis above, we observed:\n",
        "- ~Both continuous and categorical features~ (**DONE**);\n",
        "- Different scales of feature values;\n",
        "- Several outliers on many features (see the boxplots above)."
      ]
    },
    {
      "cell_type": "markdown",
      "metadata": {
        "id": "jAsM9CLq4wU3",
        "colab_type": "text"
      },
      "source": [
        "### **Standardize Features**\n",
        "\n",
        "Let's now consider the second bullet of the list above: feature scales. We can use a feature scaling transformer to standardize all our features to 0-mean and 1-unit of standard deviation. \n",
        "\n",
        "In this way, the coefficient $\\theta_0$ (i.e., the _intercept_) will have a nice interpretation, as it can be thought of as the prediction the model would make when _all_ the input features take on their respective mean values (i.e., 0)."
      ]
    },
    {
      "cell_type": "code",
      "metadata": {
        "id": "D_-X9amgfcVJ",
        "colab_type": "code",
        "colab": {}
      },
      "source": [
        "# Let's define a function to standardize all the features\n",
        "def standardize_features(df, input_col=\"features\", with_std=True, with_mean=True):\n",
        "\n",
        "    from pyspark.ml.feature import StandardScaler\n",
        "\n",
        "    # 1. Create the StandardScaler\n",
        "    scaler = StandardScaler(inputCol=input_col, outputCol=\"std_\"+input_col, withStd=with_std, withMean=with_mean)\n",
        "\n",
        "    # 2. Compute summary statistics by fitting the StandardScaler\n",
        "    scaler_model = scaler.fit(df)\n",
        "\n",
        "    # 3. Normalize each feature to have 0-mean and unit standard deviation\n",
        "    scaled_data = scaler_model.transform(df)\n",
        "\n",
        "    # 4. Eventually, return both the scaler_model (for future transformations) and the scaled data\n",
        "    return scaler_model, scaled_data"
      ],
      "execution_count": 0,
      "outputs": []
    },
    {
      "cell_type": "code",
      "metadata": {
        "id": "qzl8-aMo-fzc",
        "colab_type": "code",
        "colab": {}
      },
      "source": [
        "# Call the function above\n",
        "scaler_model, scaled_train = standardize_features(train)"
      ],
      "execution_count": 0,
      "outputs": []
    },
    {
      "cell_type": "code",
      "metadata": {
        "id": "QbDvfMuv-pc1",
        "colab_type": "code",
        "colab": {}
      },
      "source": [
        "scaled_train.select([\"features\", \"std_features\", \"label\"]).show(5, truncate=False)"
      ],
      "execution_count": 0,
      "outputs": []
    },
    {
      "cell_type": "code",
      "metadata": {
        "id": "49BjURng_BSf",
        "colab_type": "code",
        "colab": {}
      },
      "source": [
        "# First of all, let's just setup an OLS linear regressor with no regularization term\n",
        "lr = LinearRegression(featuresCol=\"std_features\", labelCol=\"label\")\n",
        "# Train the actual model on our training set `scaled_train`\n",
        "lr_model = lr.fit(scaled_train)"
      ],
      "execution_count": 0,
      "outputs": []
    },
    {
      "cell_type": "markdown",
      "metadata": {
        "id": "lhOw4gmWyRag",
        "colab_type": "text"
      },
      "source": [
        "### **Intercept ($\\theta_0$) and Coefficients ($\\theta_1, \\ldots, \\theta_n$)**"
      ]
    },
    {
      "cell_type": "code",
      "metadata": {
        "id": "KYxq3K2s_dAZ",
        "colab_type": "code",
        "colab": {}
      },
      "source": [
        "print(\"Intercept: \" + str(lr_model.intercept))\n",
        "print(\"Coefficients: \" + str(lr_model.coefficients))"
      ],
      "execution_count": 0,
      "outputs": []
    },
    {
      "cell_type": "markdown",
      "metadata": {
        "id": "GKgUXrfwyVJ3",
        "colab_type": "text"
      },
      "source": [
        "#### **Measuring performance on the Training Set: $\\text{RMSE}$ and $\\text{R}^2$ statistic**"
      ]
    },
    {
      "cell_type": "code",
      "metadata": {
        "id": "3m2R-Y9g_gmA",
        "colab_type": "code",
        "colab": {}
      },
      "source": [
        "training_result = lr_model.summary\n",
        "print(\"***** Training Set *****\")\n",
        "print(\"RMSE: {:.3f}\".format(training_result.rootMeanSquaredError))\n",
        "print(\"R2: {:.3f}\".format(training_result.r2))\n",
        "print(\"Adjusted R2: {:.3f}\".format(training_result.r2adj))\n",
        "print(\"***** Training Set *****\")"
      ],
      "execution_count": 0,
      "outputs": []
    },
    {
      "cell_type": "code",
      "metadata": {
        "id": "_kMA5fuRA9OF",
        "colab_type": "code",
        "colab": {}
      },
      "source": [
        "# Let's apply the same feature scaling to the test set\n",
        "scaled_test = scaler_model.transform(test)"
      ],
      "execution_count": 0,
      "outputs": []
    },
    {
      "cell_type": "code",
      "metadata": {
        "id": "L3Wvc8u8BJZA",
        "colab_type": "code",
        "colab": {}
      },
      "source": [
        "# Compute predictions on the test set and select only the columns of interest\n",
        "lr_predictions = lr_model.transform(scaled_test)\n",
        "lr_predictions.select(\"features\", \"std_features\", \"prediction\", \"label\").show(5)"
      ],
      "execution_count": 0,
      "outputs": []
    },
    {
      "cell_type": "markdown",
      "metadata": {
        "id": "H6-9_TKWylcz",
        "colab_type": "text"
      },
      "source": [
        "#### **Measuring performance on the Test Set: $\\text{RMSE}$ and $\\text{R}^2$ statistic**"
      ]
    },
    {
      "cell_type": "code",
      "metadata": {
        "id": "ng34uXbdBSc1",
        "colab_type": "code",
        "colab": {}
      },
      "source": [
        "test_result = lr_model.evaluate(scaled_test)\n",
        "print(\"***** Test Set *****\")\n",
        "print(\"RMSE: {:.3f}\".format(test_result.rootMeanSquaredError))\n",
        "print(\"R2: {:.3f}\".format(test_result.r2))\n",
        "print(\"Adjusted R2: {:.3f}\".format(test_result.r2adj))\n",
        "print(\"***** Test Set *****\")"
      ],
      "execution_count": 0,
      "outputs": []
    },
    {
      "cell_type": "markdown",
      "metadata": {
        "id": "aOmr8jNiz9KJ",
        "colab_type": "text"
      },
      "source": [
        "### **Observations**\n",
        "\n",
        "Since we are using simple OLS linear regression (i.e., no regularization term is included), we obtain *exactly* the same result whether we do feature scaling or not. Of course, the interpretation of the coefficients are much more convenient when features are standardized.\n",
        "\n",
        "Generally speaking, the regression coefficient $\\theta_i$ indicates the effect of a change in $x_i$ on the target variable $y$ with all of the other features $x_j$ unchanged. The measurement units of regression coefficient $\\theta_i$ are units of $y$ per unit of $x_i$. For example, if $y$ is the dollar amount of sales and $x_1$ is the number of people in the sales force, then $\\theta_1$ is expressed as units of dollars of sales per person. Now, suppose that the next regression coefficient, $\\theta_2$, is in units of dollars of sales per number of total miles traveled by the sales force. The question of which is more important to sales, staffing level or travel budget, cannot be answered by comparing $\\theta_1$ to $\\theta_2$ because dollars per person and dollars per mile are not directly comparable. Feature standardization solves this problem by expressing each \"unit\" of each feature $x_i$ as a statistical unit equal to one standard deviation.\n",
        "\n",
        "Another reason why feature standardization may be helpful is when the optimizer we use to solve OLS is **not** analyitical (i.e., Normal Equation) but iterative (e.g., L-BFGS or Gradient Descent); in this case standardization helps the numerical method to converge faster.\n",
        "\n",
        "Finally, the effect of feature standardization is instead appreciable whenever we aim to solve a regularized version of the regularization problem (e.g., L1- or L2-norm regularization)."
      ]
    },
    {
      "cell_type": "markdown",
      "metadata": {
        "id": "QndOB860B2dm",
        "colab_type": "text"
      },
      "source": [
        "## **Summary of the main findings from Data Exploration step**\n",
        "\n",
        "From our exploratory data analysis above, we observed:\n",
        "- ~Both continuous and categorical features~ (**DONE**);\n",
        "- ~Different scales of feature values~ (**NOT NECESSARY UNLESS WE USE REGULARIZATION OR NEED A BETTER INTERPRETATION OF COEFFICIENTS**);\n",
        "- Several outliers on many features (see the boxplots above)."
      ]
    },
    {
      "cell_type": "markdown",
      "metadata": {
        "id": "MZYG0cx4UuEO",
        "colab_type": "text"
      },
      "source": [
        "### **Handling Outliers**\n",
        "\n",
        "In this notebook, we will not deal with this specific issue. However, I strongly suggest you to try apply one of the techniques we mentioned in class:\n",
        "- outliers removal (_hard_ approach);\n",
        "- winsorization (_soft_ approach).\n",
        "\n",
        "Recall that feature winsorization works as follow: you choose a certain percentile value (e.g., 90) and for each feature $f_i$ you replace any value $x_i$ which falls either below the 5-th percentile or above the 95-th percentile with the 5-th and the 95-th percentile, respectively."
      ]
    },
    {
      "cell_type": "markdown",
      "metadata": {
        "id": "mKWC5LfR6ibL",
        "colab_type": "text"
      },
      "source": [
        "# **Putting All Together**\n",
        "\n",
        "In the following, we try to summarize the whole pipeline making use also of $K$-fold cross validation to get a better estimate of the generalization performance of our model."
      ]
    },
    {
      "cell_type": "code",
      "metadata": {
        "id": "Ux02QmTg7_Ps",
        "colab_type": "code",
        "colab": {}
      },
      "source": [
        "# This function defines the general pipeline for linear regression\n",
        "def linear_regression_pipeline(train, \n",
        "                               numerical_features, \n",
        "                               categorical_features, \n",
        "                               target_variable, \n",
        "                               with_std=True,\n",
        "                               with_mean=True,\n",
        "                               k_fold=5):\n",
        "\n",
        "    from pyspark.ml.feature import StringIndexer, OneHotEncoderEstimator, VectorAssembler, StandardScaler\n",
        "    from pyspark.ml.tuning import CrossValidator, ParamGridBuilder\n",
        "    from pyspark.ml.evaluation import RegressionEvaluator\n",
        "    from pyspark.ml.regression import LinearRegression\n",
        "    from pyspark.ml import Pipeline\n",
        "\n",
        "    # Configure a linear regression pipeline, which consists of the following stages: \n",
        "    # 1) convert categorical features to numerical ones\n",
        "    # 2) standardize feature values (optional)\n",
        "    # ... add any other custom transformation here ...\n",
        "    # n) fit a linear regressor model\n",
        "\n",
        "    # 1.a Create a list of indexers, i.e., one for each categorical feature\n",
        "    indexers = [StringIndexer(inputCol=c, outputCol=\"{0}_indexed\".format(c), handleInvalid=\"keep\") for c in categorical_features]\n",
        "\n",
        "    # 1.b Create the one-hot encoder for the list of features just indexed (this encoder will keep any unseen label in the future)\n",
        "    encoder = OneHotEncoderEstimator(inputCols=[indexer.getOutputCol() for indexer in indexers], \n",
        "                                    outputCols=[\"{0}_encoded\".format(indexer.getOutputCol()) for indexer in indexers], \n",
        "                                    handleInvalid=\"keep\")\n",
        "\n",
        "    # 1.c Assemble all the features into a single vector\n",
        "    assembler = VectorAssembler(inputCols=encoder.getOutputCols() + numerical_features, outputCol=\"features\")\n",
        "\n",
        "    # 2.a Create the StandardScaler\n",
        "    # scaler = StandardScaler(inputCol=assembler.getOutputCol(), outputCol=\"std_\"+assembler.getOutputCol(), withStd=with_std, withMean=with_mean)\n",
        "\n",
        "    # ...\n",
        "\n",
        "    if TARGET_VARIABLE != \"label\":\n",
        "        train = train.withColumnRenamed(TARGET_VARIABLE, \"label\")\n",
        "\n",
        "    lr = LinearRegression(featuresCol=\"features\", labelCol=\"label\") # change `featuresCol=std_features` if scaler is used\n",
        "\n",
        "    pipeline = Pipeline(stages=indexers + [encoder] + [assembler] + [lr]) # add/remove `[scaler]` to the pipeline if needed\n",
        "\n",
        "\n",
        "    # We use a ParamGridBuilder to construct a grid of parameters to search over.\n",
        "    # A CrossValidator requires an Estimator, a set of Estimator ParamMaps, and an Evaluator.\n",
        "    # We use a ParamGridBuilder to construct a grid of parameters to search over.\n",
        "    # With 3 values for lr.regParam ($\\lambda$) and 3 values for lr.elasticNetParam ($\\alpha$),\n",
        "    # this grid will have 3 x 3 = 9 parameter settings for CrossValidator to choose from.\n",
        "    param_grid = ParamGridBuilder()\\\n",
        "    .addGrid(lr.regParam, [0.0, 0.05, 0.1]) \\\n",
        "    .addGrid(lr.elasticNetParam, [0.0, 0.5, 1.0])\\\n",
        "    .build()\n",
        "    \n",
        "    cross_val = CrossValidator(estimator=pipeline, \n",
        "                               estimatorParamMaps=param_grid,\n",
        "                               evaluator=RegressionEvaluator(metricName=\"rmse\"),\n",
        "                               numFolds=k_fold,\n",
        "                               collectSubModels=True # this flag allows us to store ALL the models trained during k-fold cross validation\n",
        "                               )\n",
        "\n",
        "    # Run cross-validation, and choose the best set of parameters.\n",
        "    cv_model = cross_val.fit(train)\n",
        "\n",
        "    return cv_model"
      ],
      "execution_count": 0,
      "outputs": []
    },
    {
      "cell_type": "code",
      "metadata": {
        "id": "xjnj2jXeRSEJ",
        "colab_type": "code",
        "colab": {}
      },
      "source": [
        "cv_model = linear_regression_pipeline(train_df, NUMERICAL_FEATURES, CATEGORICAL_FEATURES, TARGET_VARIABLE)"
      ],
      "execution_count": 0,
      "outputs": []
    },
    {
      "cell_type": "code",
      "metadata": {
        "id": "IHvPkEyEBUOf",
        "colab_type": "code",
        "colab": {}
      },
      "source": [
        "# This function summarizes all the models trained during k-fold cross validation\n",
        "def summarize_all_models(cv_models):\n",
        "    for k, models in enumerate(cv_models):\n",
        "        print(\"*************** Fold #{:d} ***************\\n\".format(k+1))\n",
        "        for i, m in enumerate(models):\n",
        "            print(\"--- Model #{:d} out of {:d} ---\".format(i+1, len(models)))\n",
        "            print(\"\\tParameters: lambda=[{:.3f}]; alpha=[{:.3f}] \".format(m.stages[-1]._java_obj.getRegParam(), m.stages[-1]._java_obj.getElasticNetParam()))\n",
        "            print(\"\\tModel summary: {}\\n\".format(m.stages[-1]))\n",
        "        print(\"***************************************\\n\")"
      ],
      "execution_count": 0,
      "outputs": []
    },
    {
      "cell_type": "code",
      "metadata": {
        "id": "m50kfzDTRhsd",
        "colab_type": "code",
        "colab": {}
      },
      "source": [
        "# Call the function above|\n",
        "summarize_all_models(cv_model.subModels)"
      ],
      "execution_count": 0,
      "outputs": []
    },
    {
      "cell_type": "code",
      "metadata": {
        "id": "jJyI7BSC8cmA",
        "colab_type": "code",
        "colab": {}
      },
      "source": [
        "for i, avg_rmse in enumerate(cv_model.avgMetrics):\n",
        "    print(\"Avg. RMSE computed across k-fold cross validation for model setting #{:d}: {:3f}\".format(i+1, avg_rmse))"
      ],
      "execution_count": 0,
      "outputs": []
    },
    {
      "cell_type": "markdown",
      "metadata": {
        "id": "BzVrvU9kJOZj",
        "colab_type": "text"
      },
      "source": [
        "### **Measuring performance on the Training Set: $\\text{RMSE}$ and $\\text{R}^2$ statistic**"
      ]
    },
    {
      "cell_type": "code",
      "metadata": {
        "id": "fLgNpJP0JVtw",
        "colab_type": "code",
        "colab": {}
      },
      "source": [
        "# `bestModel` is the best resulting model according to K-fold cross validation, which is also entirely retrained on the whole `train_df`\n",
        "training_result = cv_model.bestModel.stages[-1].summary\n",
        "print(\"***** Training Set *****\")\n",
        "print(\"RMSE: {:.3f}\".format(training_result.rootMeanSquaredError))\n",
        "print(\"R2: {:.3f}\".format(training_result.r2))\n",
        "print(\"Adjusted R2: {:.3f}\".format(training_result.r2adj))\n",
        "print(\"***** Training Set *****\")"
      ],
      "execution_count": 0,
      "outputs": []
    },
    {
      "cell_type": "markdown",
      "metadata": {
        "id": "yadIWG4pIcrr",
        "colab_type": "text"
      },
      "source": [
        "### **Using the best model from $K$-fold cross validation to make predictions**"
      ]
    },
    {
      "cell_type": "code",
      "metadata": {
        "id": "b01W9KqbSz6c",
        "colab_type": "code",
        "colab": {}
      },
      "source": [
        "# Make predictions on the test set (`cv_model` contains the best model according to the result of k-fold cross validation)\n",
        "# `test_df` will follow exactly the same pipeline defined above, and already fit to `train_df`\n",
        "test_df = test_df.withColumnRenamed(\"price\", \"label\")\n",
        "predictions = cv_model.transform(test_df)"
      ],
      "execution_count": 0,
      "outputs": []
    },
    {
      "cell_type": "code",
      "metadata": {
        "id": "2Tlh8G3STxGh",
        "colab_type": "code",
        "colab": {}
      },
      "source": [
        "predictions.select(\"features\", \"prediction\", \"label\").show(5)"
      ],
      "execution_count": 0,
      "outputs": []
    },
    {
      "cell_type": "code",
      "metadata": {
        "id": "FOA-EKGxU16J",
        "colab_type": "code",
        "colab": {}
      },
      "source": [
        "def evaluate_model(predictions, metric=\"rmse\"):\n",
        "    \n",
        "    from pyspark.ml.evaluation import RegressionEvaluator\n",
        "\n",
        "    evaluator = RegressionEvaluator(labelCol=\"label\",\n",
        "                                    predictionCol=\"prediction\",\n",
        "                                    metricName=metric)\n",
        "\n",
        "    return evaluator.evaluate(predictions)"
      ],
      "execution_count": 0,
      "outputs": []
    },
    {
      "cell_type": "code",
      "metadata": {
        "id": "bsZ2IQ7lOtbQ",
        "colab_type": "code",
        "colab": {}
      },
      "source": [
        "def r2_adj(predictions):\n",
        "    \n",
        "    r2 = evaluate_model(predictions, metric=\"r2\")\n",
        "    r2_adj_score = (1 - (1 - r2) * ((predictions.count() - 1) / (predictions.count() - predictions.select('features').first()[0].size - 1)))\n",
        "\n",
        "    return r2_adj_score"
      ],
      "execution_count": 0,
      "outputs": []
    },
    {
      "cell_type": "markdown",
      "metadata": {
        "id": "7ulP5vi_VpnP",
        "colab_type": "text"
      },
      "source": [
        "### **Measuring performance on the Test Set: $\\text{RMSE}$ and $\\text{R}^2$ statistic**"
      ]
    },
    {
      "cell_type": "code",
      "metadata": {
        "id": "WDEu2HuaaueC",
        "colab_type": "code",
        "colab": {}
      },
      "source": [
        "print(\"***** Test Set *****\")\n",
        "print(\"RMSE: {:.3f}\".format(evaluate_model(predictions)))\n",
        "print(\"R2: {:.3f}\".format(evaluate_model(predictions, metric=\"r2\")))\n",
        "print(\"Adjusted R2: {:.3f}\".format(r2_adj(predictions)))\n",
        "print(\"***** Test Set *****\")"
      ],
      "execution_count": 0,
      "outputs": []
    }
  ]
}